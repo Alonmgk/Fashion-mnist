{
 "cells": [
  {
   "cell_type": "markdown",
   "metadata": {},
   "source": [
    "## Reading file"
   ]
  },
  {
   "cell_type": "code",
   "execution_count": 1,
   "metadata": {},
   "outputs": [],
   "source": [
    "import pandas as pd\n",
    "import numpy as np\n",
    "df=pd.read_csv('fashion-mnist_train.csv')"
   ]
  },
  {
   "cell_type": "markdown",
   "metadata": {},
   "source": [
    "## Pre-processing data"
   ]
  },
  {
   "cell_type": "code",
   "execution_count": 2,
   "metadata": {},
   "outputs": [],
   "source": [
    "## Seperating the independent and dependent variables\n",
    "Features=df.loc[:, df.columns != 'label'] # It will contains all columns except our target column\n",
    "Target=df.loc[:, df.columns == 'label'] #It will contain target column"
   ]
  },
  {
   "cell_type": "code",
   "execution_count": 3,
   "metadata": {},
   "outputs": [
    {
     "name": "stdout",
     "output_type": "stream",
     "text": [
      "Shape of features vector (60000, 784)\n",
      "Shape of Target vector (60000, 1)\n"
     ]
    }
   ],
   "source": [
    "print(\"Shape of features vector\", Features.shape)\n",
    "print(\"Shape of Target vector\", Target.shape)"
   ]
  },
  {
   "cell_type": "code",
   "execution_count": 4,
   "metadata": {},
   "outputs": [],
   "source": [
    "## Since shape of our Features is 60000*784 , but our model expects input in the shape of 60000*28*28*1, so we will\n",
    "## reshape it accordingly"
   ]
  },
  {
   "cell_type": "code",
   "execution_count": 5,
   "metadata": {},
   "outputs": [],
   "source": [
    "\n",
    "X=[]\n",
    "for i in Features.values: ## Iterating each row\n",
    "    i=np.array(i)\n",
    "    X.append(i.reshape(28,28)) ## Reshaping it and storing it in an array\n",
    "X=np.array(X) ## Making it a numpy array\n",
    "X = X.reshape((X.shape[0], 28, 28, 1)) \n",
    "y=Target.values.reshape(-1) ## Reshaping Y-label"
   ]
  },
  {
   "cell_type": "code",
   "execution_count": 6,
   "metadata": {},
   "outputs": [],
   "source": [
    "## Now we will normalise the data and convert the Y-labels to one hot encoded form."
   ]
  },
  {
   "cell_type": "code",
   "execution_count": 7,
   "metadata": {},
   "outputs": [],
   "source": [
    "# scale data to the range of [0, 1]\n",
    "X = X.astype(\"float32\") / 255.0"
   ]
  },
  {
   "cell_type": "code",
   "execution_count": 8,
   "metadata": {},
   "outputs": [
    {
     "name": "stderr",
     "output_type": "stream",
     "text": [
      "Using TensorFlow backend.\n"
     ]
    }
   ],
   "source": [
    "from keras.utils import np_utils\n",
    "\n",
    "# one-hot encode the training and testing labels\n",
    "Y = np_utils.to_categorical(y, 10)"
   ]
  },
  {
   "cell_type": "markdown",
   "metadata": {},
   "source": [
    "## Splitting data"
   ]
  },
  {
   "cell_type": "code",
   "execution_count": 12,
   "metadata": {},
   "outputs": [
    {
     "data": {
      "text/plain": [
       "((59999, 28, 28, 1), (59999, 10), (1, 28, 28, 1), (1, 10))"
      ]
     },
     "execution_count": 12,
     "metadata": {},
     "output_type": "execute_result"
    }
   ],
   "source": [
    "## Splitting the data\n",
    "from sklearn.model_selection import train_test_split\n",
    "## We are only using 5% data as test set, so that the our model has more data to learn\n",
    "# Train Test Split\n",
    "X_train, X_test, y_train, y_test = train_test_split(X, Y, test_size=0.00001, random_state=101)\n",
    "X_train.shape, y_train.shape, X_test.shape, y_test.shape"
   ]
  },
  {
   "cell_type": "markdown",
   "metadata": {},
   "source": [
    "## Building Model"
   ]
  },
  {
   "cell_type": "code",
   "execution_count": 13,
   "metadata": {},
   "outputs": [],
   "source": [
    "# import the necessary packages\n",
    "import keras\n",
    "from keras.models import Sequential\n",
    "from keras.layers.normalization import BatchNormalization\n",
    "from keras.layers.convolutional import Conv2D\n",
    "from keras.layers.convolutional import MaxPooling2D\n",
    "from keras.layers.core import Activation\n",
    "from keras.layers.core import Flatten\n",
    "from keras.layers.core import Dropout\n",
    "from keras.layers.core import Dense\n",
    "from keras import backend as K\n",
    "# set the matplotlib backend so figures can be saved in the background\n",
    "import matplotlib\n",
    "matplotlib.use(\"Agg\")\n",
    "\n",
    "# import the necessary packages\n",
    "from sklearn.metrics import classification_report\n",
    "from keras.optimizers import SGD\n",
    "from keras.datasets import fashion_mnist\n",
    "from keras.utils import np_utils\n",
    "from keras import backend as K\n",
    "#from imutils import build_montages\n",
    "import matplotlib.pyplot as plt\n",
    "import numpy as np\n",
    "\n"
   ]
  },
  {
   "cell_type": "code",
   "execution_count": 14,
   "metadata": {},
   "outputs": [],
   "source": [
    "class CNN:\n",
    "    @staticmethod\n",
    "    def build(width, height, depth, classes):\n",
    "        inputShape = (height, width, depth)\n",
    "        chanDim = -1\n",
    "\n",
    "        model = Sequential()\n",
    "\n",
    "        # first CONV => RELU => CONV => RELU => POOL layer set\n",
    "        model.add(Conv2D(32, (3, 3), padding=\"same\",input_shape=inputShape))\n",
    "        model.add(Activation(\"relu\"))\n",
    "        model.add(BatchNormalization(axis=chanDim))\n",
    "        model.add(Conv2D(32, (3, 3), padding=\"same\"))\n",
    "        model.add(Activation(\"relu\"))\n",
    "        model.add(BatchNormalization(axis=chanDim))\n",
    "        model.add(MaxPooling2D(pool_size=(2, 2)))\n",
    "        model.add(Dropout(0.25))\n",
    "        \n",
    "        \n",
    "        # second CONV => RELU => CONV => RELU => POOL layer set\n",
    "        model.add(Conv2D(64, (3, 3), padding=\"same\"))\n",
    "        model.add(Activation(\"relu\"))\n",
    "        model.add(BatchNormalization(axis=chanDim))\n",
    "        model.add(Conv2D(64, (3, 3), padding=\"same\"))\n",
    "        model.add(Activation(\"relu\"))\n",
    "        model.add(BatchNormalization(axis=chanDim))\n",
    "        model.add(MaxPooling2D(pool_size=(2, 2)))\n",
    "        model.add(Dropout(0.25))\n",
    "        \n",
    "        # first (and only) set of FC => RELU layers\n",
    "        model.add(Flatten())\n",
    "        model.add(Dense(512))\n",
    "        model.add(Activation(\"relu\"))\n",
    "        model.add(BatchNormalization())\n",
    "        model.add(Dropout(0.5))\n",
    "        \n",
    "        \n",
    "        # softmax classifier\n",
    "        model.add(Dense(classes))\n",
    "        model.add(Activation(\"softmax\"))\n",
    "        # return the constructed network architecture\n",
    "        return model\n"
   ]
  },
  {
   "cell_type": "markdown",
   "metadata": {},
   "source": [
    "## Training the model"
   ]
  },
  {
   "cell_type": "code",
   "execution_count": 15,
   "metadata": {},
   "outputs": [],
   "source": [
    "# initialize the number of epochs to train for, base learning rate,\n",
    "# and batch size\n",
    "NUM_EPOCHS = 32\n",
    "INIT_LR = 1e-2\n",
    "BS = 32 "
   ]
  },
  {
   "cell_type": "code",
   "execution_count": 16,
   "metadata": {
    "scrolled": false
   },
   "outputs": [
    {
     "name": "stdout",
     "output_type": "stream",
     "text": [
      "[INFO] compiling model...\n",
      "[INFO] training model...\n",
      "Epoch 1/32\n",
      "59999/59999 [==============================] - 156s 3ms/step - loss: 0.5479 - accuracy: 0.8166\n",
      "Epoch 2/32\n",
      "59999/59999 [==============================] - 155s 3ms/step - loss: 0.3419 - accuracy: 0.8791\n",
      "Epoch 3/32\n",
      "59999/59999 [==============================] - 156s 3ms/step - loss: 0.2960 - accuracy: 0.8948\n",
      "Epoch 4/32\n",
      "59999/59999 [==============================] - 156s 3ms/step - loss: 0.2706 - accuracy: 0.9033\n",
      "Epoch 5/32\n",
      "59999/59999 [==============================] - 158s 3ms/step - loss: 0.2500 - accuracy: 0.9093\n",
      "Epoch 6/32\n",
      "59999/59999 [==============================] - 157s 3ms/step - loss: 0.2404 - accuracy: 0.9128\n",
      "Epoch 7/32\n",
      "59999/59999 [==============================] - 162s 3ms/step - loss: 0.2284 - accuracy: 0.9165\n",
      "Epoch 8/32\n",
      "59999/59999 [==============================] - 161s 3ms/step - loss: 0.2210 - accuracy: 0.91890s - loss: 0.2210 - accuracy: 0.91\n",
      "Epoch 9/32\n",
      "59999/59999 [==============================] - 171s 3ms/step - loss: 0.2129 - accuracy: 0.9222\n",
      "Epoch 10/32\n",
      "59999/59999 [==============================] - 165s 3ms/step - loss: 0.2059 - accuracy: 0.9256\n",
      "Epoch 11/32\n",
      "59999/59999 [==============================] - 159s 3ms/step - loss: 0.2015 - accuracy: 0.9255\n",
      "Epoch 12/32\n",
      "59999/59999 [==============================] - 157s 3ms/step - loss: 0.1973 - accuracy: 0.9277\n",
      "Epoch 13/32\n",
      "59999/59999 [==============================] - 155s 3ms/step - loss: 0.1937 - accuracy: 0.9305\n",
      "Epoch 14/32\n",
      "59999/59999 [==============================] - 156s 3ms/step - loss: 0.1900 - accuracy: 0.9291\n",
      "Epoch 15/32\n",
      "59999/59999 [==============================] - 156s 3ms/step - loss: 0.1872 - accuracy: 0.9314\n",
      "Epoch 16/32\n",
      "59999/59999 [==============================] - 155s 3ms/step - loss: 0.1832 - accuracy: 0.93171s -\n",
      "Epoch 17/32\n",
      "59999/59999 [==============================] - 160s 3ms/step - loss: 0.1805 - accuracy: 0.9333\n",
      "Epoch 18/32\n",
      "59999/59999 [==============================] - 154s 3ms/step - loss: 0.1772 - accuracy: 0.9360\n",
      "Epoch 19/32\n",
      "59999/59999 [==============================] - 155s 3ms/step - loss: 0.1784 - accuracy: 0.9345\n",
      "Epoch 20/32\n",
      "59999/59999 [==============================] - 153s 3ms/step - loss: 0.1769 - accuracy: 0.9361\n",
      "Epoch 21/32\n",
      "59999/59999 [==============================] - 156s 3ms/step - loss: 0.1725 - accuracy: 0.9370\n",
      "Epoch 22/32\n",
      "59999/59999 [==============================] - 156s 3ms/step - loss: 0.1702 - accuracy: 0.9367\n",
      "Epoch 23/32\n",
      "59999/59999 [==============================] - 154s 3ms/step - loss: 0.1683 - accuracy: 0.9387\n",
      "Epoch 24/32\n",
      "59999/59999 [==============================] - 156s 3ms/step - loss: 0.1650 - accuracy: 0.9393\n",
      "Epoch 25/32\n",
      "59999/59999 [==============================] - 155s 3ms/step - loss: 0.1638 - accuracy: 0.9392\n",
      "Epoch 26/32\n",
      "59999/59999 [==============================] - 154s 3ms/step - loss: 0.1655 - accuracy: 0.9401\n",
      "Epoch 27/32\n",
      "59999/59999 [==============================] - 159s 3ms/step - loss: 0.1612 - accuracy: 0.9415\n",
      "Epoch 28/32\n",
      "59999/59999 [==============================] - 160s 3ms/step - loss: 0.1596 - accuracy: 0.9418\n",
      "Epoch 29/32\n",
      "59999/59999 [==============================] - 164s 3ms/step - loss: 0.1596 - accuracy: 0.9413\n",
      "Epoch 30/32\n",
      "59999/59999 [==============================] - 158s 3ms/step - loss: 0.1563 - accuracy: 0.9424\n",
      "Epoch 31/32\n",
      "59999/59999 [==============================] - 159s 3ms/step - loss: 0.1541 - accuracy: 0.9432\n",
      "Epoch 32/32\n",
      "59999/59999 [==============================] - 158s 3ms/step - loss: 0.1532 - accuracy: 0.9431\n"
     ]
    }
   ],
   "source": [
    "\n",
    "# initialize the optimizer and model\n",
    "print(\"[INFO] compiling model...\")\n",
    "opt = SGD(lr=INIT_LR, momentum=0.9, decay=INIT_LR / NUM_EPOCHS)\n",
    "model = CNN.build(width=28, height=28, depth=1, classes=10)\n",
    "model.compile(loss=\"categorical_crossentropy\", optimizer=opt,\n",
    "    metrics=[\"accuracy\"])\n",
    "\n",
    "# train the network\n",
    "print(\"[INFO] training model...\")\n",
    "H = model.fit(X_train, y_train,\n",
    "    batch_size=BS, epochs=NUM_EPOCHS)"
   ]
  },
  {
   "cell_type": "markdown",
   "metadata": {},
   "source": [
    "## Plotting the accuracy and loss curves"
   ]
  },
  {
   "cell_type": "code",
   "execution_count": 21,
   "metadata": {},
   "outputs": [
    {
     "data": {
      "image/png": "[encoded data removed]",
      "text/plain": [
       "<Figure size 432x288 with 1 Axes>"
      ]
     },
     "metadata": {
      "needs_background": "light"
     },
     "output_type": "display_data"
    }
   ],
   "source": [
    "%matplotlib inline\n",
    "# plot the training loss and accuracy\n",
    "N = 32\n",
    "plt.plot(np.arange(0, N), H.history[\"loss\"], label=\"train_loss\")\n",
    "plt.plot(np.arange(0, N), H.history[\"accuracy\"], label=\"train_acc\")\n",
    "plt.title(\"Training Loss and Accuracy on Dataset\")\n",
    "plt.xlabel(\"Epoch #\")\n",
    "plt.ylabel(\"Loss/Accuracy\")\n",
    "plt.legend(loc=\"lower left\")\n",
    "plt.show()\n"
   ]
  },
  {
   "cell_type": "markdown",
   "metadata": {},
   "source": [
    "## Testing the model on test set"
   ]
  },
  {
   "cell_type": "code",
   "execution_count": 22,
   "metadata": {},
   "outputs": [],
   "source": [
    "testdf=pd.read_csv(\"fashion-mnist_test.csv\")\n",
    "Features=testdf"
   ]
  },
  {
   "cell_type": "code",
   "execution_count": 23,
   "metadata": {},
   "outputs": [],
   "source": [
    "X=[]\n",
    "for i in Features.values: ## Iterating each row\n",
    "    i=np.array(i)\n",
    "    X.append(i.reshape(28,28)) ## Reshaping it and storing it in an array\n",
    "X=np.array(X) ## Making it a numpy array\n",
    "X = X.reshape((X.shape[0], 28, 28, 1)) \n"
   ]
  },
  {
   "cell_type": "code",
   "execution_count": 24,
   "metadata": {},
   "outputs": [],
   "source": [
    "# scale data to the range of [0, 1]\n",
    "X = X.astype(\"float32\") / 255.0"
   ]
  },
  {
   "cell_type": "code",
   "execution_count": 25,
   "metadata": {},
   "outputs": [],
   "source": [
    "predictions=model.predict_classes(X)"
   ]
  },
  {
   "cell_type": "markdown",
   "metadata": {},
   "source": [
    "## Storing the predictions in submission file"
   ]
  },
  {
   "cell_type": "code",
   "execution_count": 26,
   "metadata": {},
   "outputs": [],
   "source": [
    "submissiondf= pd.read_csv(\"sample_submission.csv\")"
   ]
  },
  {
   "cell_type": "code",
   "execution_count": 27,
   "metadata": {},
   "outputs": [],
   "source": [
    "submissiondf[\"predicted\"]=predictions"
   ]
  },
  {
   "cell_type": "code",
   "execution_count": 28,
   "metadata": {},
   "outputs": [],
   "source": [
    "submissiondf.to_csv(\"MyFSubmission.csv\",index=False)"
   ]
  }
 ],
 "metadata": {
  "kernelspec": {
   "display_name": "Python 3",
   "language": "python",
   "name": "python3"
  },
  "language_info": {
   "codemirror_mode": {
    "name": "ipython",
    "version": 3
   },
   "file_extension": ".py",
   "mimetype": "text/x-python",
   "name": "python",
   "nbconvert_exporter": "python",
   "pygments_lexer": "ipython3",
   "version": "3.7.4"
  }
 },
 "nbformat": 4,
 "nbformat_minor": 4
}
